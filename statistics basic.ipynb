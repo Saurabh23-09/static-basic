{
 "cells": [
  {
   "cell_type": "markdown",
   "id": "95aaba53-76c7-4eae-86af-ad10b6008179",
   "metadata": {},
   "source": [
    "## Statistics basic"
   ]
  },
  {
   "cell_type": "markdown",
   "id": "4a45dad8-e2f4-474c-9911-0ab98d1f39d4",
   "metadata": {},
   "source": [
    "QUS 1.  Explain the different types of data (qualitative and quantitative) and provide examples of each. Discuss \n",
    "nominal, ordinal, interval, and ratio scales.\n",
    "   - #### Types of data\n",
    "     Data can be broadly classified into qualitative and quantitative types:\n",
    "     1. Qualitative Data (Categorical Data)\n",
    "        - Describes qualities or characteristics.\n",
    "        - Cannot be measured numerically but can be categorized.\n",
    "     2. Quantitative Data (Numerical Data)\n",
    "        - Represents numerical values that can be measured or counted.\n",
    "   - #### Nominal Scale (Categorical, No Order)\n",
    "     example: Used for labeling variables without any quantitative value.\n",
    "              No inherent order or ranking.\n",
    "   - #### Ordinal Scale\n",
    "     example: Represents categories with a meaningful order but without equal intervals.\n",
    "The difference between values is not measurable.\n",
    "   - #### Interval scale\n",
    "     example: Represents numerical values with equal intervals between them.\n",
    "No true zero point\n",
    "   - #### ratio scale\n",
    "     example: Has all the properties of an interval scale but includes a true zero point.\n",
    "Allows meaningful comparisons\n"
   ]
  },
  {
   "cell_type": "markdown",
   "id": "2585ec9e-5afb-4372-a631-fb93bcb7f138",
   "metadata": {},
   "source": [
    "QUS 2. What are the measures of central tendency, and when should you use each? Discuss the mean, median, \n",
    "and mode with examples and situations where each is appropriate\n",
    "   - #### Measures of Central Tendency\n",
    "     Measures of central tendency describe a dataset's center or typical value. The three main measures are mean, median, and mode, each useful in different situations.\n",
    "     #### 1. Mean:\n",
    "     - Definition: The sum of all values divided by the number of values.\n",
    "     - Example:\n",
    "     - Exam scores: (80, 85, 90, 95, 100)\n",
    "        - Mean = (80+85+90+95+100+)/5 = 90\n",
    "     #### 2. Midian:\n",
    "     - Definition: The middle number when values are arranged in order.\n",
    "     - Example:\n",
    "     - Salaries: \n",
    "(\n",
    "30\n",
    ",\n",
    "000\n",
    ",\n",
    "35\n",
    ",\n",
    "000\n",
    ",\n",
    "40\n",
    ",\n",
    "000\n",
    ",\n",
    "1\n",
    ",\n",
    "000\n",
    ",\n",
    "000\n",
    ")\n",
    "\n",
    "Ordered: \n",
    "(\n",
    "30\n",
    ",\n",
    "000\n",
    ",\n",
    "35\n",
    ",\n",
    "000\n",
    ",\n",
    "40\n",
    ",\n",
    "000\n",
    ",\n",
    "1\n",
    ",\n",
    "000\n",
    ",\n",
    "000\n",
    ")\n",
    "\n",
    "Median = (35000+40000)/2 = 37500\n",
    "\n",
    "#### 3. Mode:\n",
    "    - Definition: The most frequently occurring value in a dataset.\n",
    "    - Example: Shoe sizes: \n",
    "(\n",
    "7\n",
    ",\n",
    "8\n",
    ",\n",
    "8\n",
    ",\n",
    "9\n",
    ",\n",
    "10\n",
    ",\n",
    "10\n",
    ",\n",
    "10\n",
    ",\n",
    "11\n",
    ")\n",
    " - Mode = 10 (appears most often).\n",
    "\n",
    "\n",
    "    \n",
    "\n",
    "\n",
    "     \n",
    "\n"
   ]
  },
  {
   "cell_type": "markdown",
   "id": "62cc7dc3-bc52-42a3-914a-f286f992d8e1",
   "metadata": {},
   "source": [
    "QUS 3. Explain the concept of dispersion. How do variance and standard deviation measure the spread of data.\n",
    "#### Concept of dispersion:\n",
    "Dispersion refers to the spread or variability of data points in a dataset. It helps us understand how much the values differ from the central tendency (mean, median, or mode). A dataset with high dispersion has values spread out widely, while a dataset with low dispersion has values clustered closely around the center.\n",
    "#### Variance and Standard Deviation: Measuring Spread:\n",
    "- Definition: Measures the average squared deviation of each data point from the mean.\n",
    "- A higher variance means the data points are more spread out.\n",
    "\n",
    " - A lower variance means the data points are closer to the mean.\n",
    "#### Standard Deviation (𝜎):\n",
    "- Definition: Measures the average deviation from the mean in the same units as the data.\n",
    "- Standard deviation is easier to interpret than variance because it is in the same units as the original data.\n",
    "\n",
    "- A small standard deviation means data points are close to the mean.\n",
    "\n",
    "- A large standard deviation means data points are spread out.\n",
    "\n",
    "  "
   ]
  },
  {
   "cell_type": "markdown",
   "id": "2de3e33b-aa18-46f5-a2fb-a4ea308fbf44",
   "metadata": {},
   "source": [
    "QUS 4.  What is a box plot, and what can it tell you about the distribution of data?\n",
    "#### Box Plot: Understanding Data Distribution:\n",
    "- A box plot (also called a box-and-whisker plot) is a graphical representation of a dataset's distribution. It provides a summary of key statistical measures, including the median, quartiles, and potential outliers. Box plots are useful for comparing distributions and identifying variability in data.\n"
   ]
  },
  {
   "cell_type": "markdown",
   "id": "8038e0aa-4e84-428d-9fc9-2f48325641ad",
   "metadata": {},
   "source": [
    "QUS 5. Discuss the role of random sampling in making inferences about populations.\n",
    "#### Role of Random Sampling in Making Inferences About Populations:\n",
    "- Random sampling is a fundamental technique in statistics used to make inferences about a population based on a subset of data. It ensures that every individual in the population has an equal chance of being selected, leading to unbiased and representative results.\n",
    "- Reduces Bias:\n",
    "    - Ensures that the sample is not systematically skewed toward certain groups.\n",
    "\n",
    "- Improves Representativeness:\n",
    "     - Helps generalize findings to the entire population.\n",
    "\n",
    "- Enables Statistical Inference:\n",
    "    - Allows researchers to estimate population parameters (mean, proportion, etc.).\n",
    "\n",
    "- Supports Hypothesis Testing:\n",
    "     - Provides a basis for making conclusions about population characteristics."
   ]
  },
  {
   "cell_type": "markdown",
   "id": "3ba0730e-a1fa-4a89-b47c-427e94251a1f",
   "metadata": {},
   "source": [
    "QUS 6.  Explain the concept of skewness and its types. How does skewness affect the interpretation of data.\n",
    "#### Concept of Skewness:\n",
    "- Skewness is a statistical measure that describes the asymmetry of a dataset's distribution. It indicates whether data values are symmetrically distributed around the mean or if they are skewed toward one side.\n",
    "#### Types of Skewness\n",
    "- Positive Skewness (Right-Skewed)\n",
    "- Negative skewness\n",
    "- Zero skewness\n",
    "#### How Skewness Affects Data Interpretation:\n",
    "- In skewed distributions, the mean is affected by extreme values, while the median remains more stable.\n",
    "- Highly skewed data may require transformation (e.g., logarithmic transformation) for accurate analysis.\n",
    "\n"
   ]
  },
  {
   "cell_type": "markdown",
   "id": "a3a7ed7f-b78d-4259-97e6-7867848ecaf4",
   "metadata": {},
   "source": [
    "QUS 7.  What is the interquartile range (IQR), and how is it used to detect outliers.\n",
    "#### Interquartile Range (IQR) and Outlier Detection:\n",
    "- The Interquartile Range (IQR) is a measure of statistical dispersion that represents the middle 50% of a dataset.\n",
    "#### How is IQR Used to Detect Outliers?\n",
    "- Outliers are extreme values that lie far outside the typical range of a dataset.\n",
    "- Any data point below the lower bound or above the upper bound is considered an outlier."
   ]
  },
  {
   "cell_type": "markdown",
   "id": "679bf03d-0441-4114-a786-050bb1dd2035",
   "metadata": {},
   "source": [
    "QUS 8.  Discuss the conditions under which the binomial distribution is used\n",
    "#### Conditions for Using the Binomial Distribution:\n",
    "- The binomial distribution is a probability distribution used to model the number of successes in a fixed number of independent trials, where each trial has only two possible outcomes: success or failure. It is widely used in statistics for scenarios involving repeated experiments with binary outcomes."
   ]
  },
  {
   "cell_type": "markdown",
   "id": "3014b37c-0cac-47bb-a010-8bdbbc16aac0",
   "metadata": {},
   "source": [
    "QUS 9. Explain the properties of the normal distribution and the empirical rule (68-95-99.7 rule)\n",
    "#### Property of normal distribution:\n",
    "-The normal distribution, also known as the Gaussian distribution, is a continuous probability distribution that is symmetric and bell-shaped. It is widely used in statistics due to its natural occurrence in many real-world phenomena."
   ]
  },
  {
   "cell_type": "markdown",
   "id": "c489814c-08ae-4314-bdfd-9482ffe4c8db",
   "metadata": {},
   "source": [
    "QUS 10. Provide a real-life example of a Poisson process and calculate the probability for a specific event.\n",
    "#### Real-Life Example of a Poisson Process:\n",
    "- A Poisson process models the occurrence of events that happen randomly over time or space, where the events are independent and occur at a constant average rate. A common real-life example is customer arrivals at a store.\n",
    "\n"
   ]
  },
  {
   "cell_type": "markdown",
   "id": "12d2ff5b-985c-4625-9e9e-582c68af0789",
   "metadata": {},
   "source": [
    "QUS 11.Explain what a random variable is and differentiate between discrete and continuous random variables\n",
    "#### Random Variable:\n",
    "- A random variable is a numerical outcome of a random experiment. It assigns a number to each possible outcome of an event, allowing us to analyze probabilities mathematically.\n",
    "#### Discrete Random Variables:\n",
    "- A discrete random variable takes on a countable number of distinct values. These values are often whole numbers and arise from scenarios where outcomes are separate and distinct.\n",
    "#### Continuous Random Variables:\n",
    "- A continuous random variable takes on an uncountable number of values within a given range. These values can be any number within an interval, including decimals."
   ]
  },
  {
   "cell_type": "code",
   "execution_count": null,
   "id": "e7f7e114-4eb3-4e14-b81d-e6e3b2e4c57d",
   "metadata": {},
   "outputs": [],
   "source": []
  }
 ],
 "metadata": {
  "kernelspec": {
   "display_name": "Python 3 (ipykernel)",
   "language": "python",
   "name": "python3"
  },
  "language_info": {
   "codemirror_mode": {
    "name": "ipython",
    "version": 3
   },
   "file_extension": ".py",
   "mimetype": "text/x-python",
   "name": "python",
   "nbconvert_exporter": "python",
   "pygments_lexer": "ipython3",
   "version": "3.13.3"
  }
 },
 "nbformat": 4,
 "nbformat_minor": 5
}
